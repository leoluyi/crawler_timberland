{
 "cells": [
  {
   "cell_type": "code",
   "execution_count": 7,
   "metadata": {},
   "outputs": [],
   "source": [
    "import requests\n",
    "from bs4 import BeautifulSoup\n",
    "from pyquery import PyQuery as pq\n",
    "from datetime import datetime\n",
    "import hashlib\n",
    "import json\n",
    "from pymongo import MongoClient\n",
    "import time"
   ]
  },
  {
   "cell_type": "markdown",
   "metadata": {},
   "source": [
    "## Config"
   ]
  },
  {
   "cell_type": "code",
   "execution_count": null,
   "metadata": {},
   "outputs": [],
   "source": [
    "\".sub-menu .sub-menu .menu-item-object-product_category a\"\n",
    "\n",
    "# Variables about mongodb\n",
    "MONGODB_HOST = os.environ.get(\"MONGODB_HOST\", \"localhost\")\n",
    "MONGODB_PORT = int(os.environ.get(\"MONGODB_PORT\", 27017))\n",
    "MONGODB_USER = os.environ.get(\"MONGODB_USER\", \"\")\n",
    "MONGODB_PWD = os.environ.get(\"MONGODB_PWD\", \"\")\n",
    "DB = os.environ.get(\"DB\", \"yoooobot\")"
   ]
  },
  {
   "cell_type": "markdown",
   "metadata": {},
   "source": [
    "## Try"
   ]
  },
  {
   "cell_type": "code",
   "execution_count": 3,
   "metadata": {},
   "outputs": [],
   "source": [
    "url_base = \"http://www.timberland.com.tw\""
   ]
  },
  {
   "cell_type": "code",
   "execution_count": 9,
   "metadata": {},
   "outputs": [],
   "source": [
    "res = requests.get(url_base)"
   ]
  },
  {
   "cell_type": "code",
   "execution_count": 13,
   "metadata": {},
   "outputs": [
    {
     "data": {
      "text/plain": [
       "[<html.no-js.zh-TW.tw>]"
      ]
     },
     "execution_count": 13,
     "metadata": {},
     "output_type": "execute_result"
    }
   ],
   "source": [
    "doc = pq(res.text)\n",
    "doc"
   ]
  },
  {
   "cell_type": "code",
   "execution_count": 50,
   "metadata": {},
   "outputs": [],
   "source": [
    "doc_categories = doc('.sub-menu .sub-menu .menu-item-object-product_category a')"
   ]
  },
  {
   "cell_type": "code",
   "execution_count": 51,
   "metadata": {},
   "outputs": [
    {
     "data": {
      "text/plain": [
       "[('T 恤', 'http://www.timberland.com.tw/men-apparel-t-shirts/'),\n",
       " ('運動上衣', 'http://www.timberland.com.tw/men-apparel-sweatshirts/'),\n",
       " ('POLO 衫', 'http://www.timberland.com.tw/men-apparel-polo/'),\n",
       " ('外套', 'http://www.timberland.com.tw/men-apparel-outerwear/'),\n",
       " ('襯衫', 'http://www.timberland.com.tw/men-apparel-shirts/'),\n",
       " ('褲款', 'http://www.timberland.com.tw/men-apparel-pants-shorts/'),\n",
       " ('毛衣', 'http://www.timberland.com.tw/men-apparel-sweaters/'),\n",
       " ('健行鞋／靴', 'http://www.timberland.com.tw/men-footwear-hiking-shoes-boots/'),\n",
       " ('靴款', 'http://www.timberland.com.tw/men-footwear-boots/'),\n",
       " ('運動靴', 'http://www.timberland.com.tw/men-footwear-sneakerboots/'),\n",
       " ('帆船鞋', 'http://www.timberland.com.tw/men-footwear-boat-shoes/'),\n",
       " ('休閒鞋款', 'http://www.timberland.com.tw/men-footwear-shoes/'),\n",
       " ('涼鞋', 'http://www.timberland.com.tw/men-footwear-sandals/'),\n",
       " ('T 恤', 'http://www.timberland.com.tw/women-apparel-t-shirts/'),\n",
       " ('運動上衣', 'http://www.timberland.com.tw/women-apparel-sweatshirts/'),\n",
       " ('洋裝', 'http://www.timberland.com.tw/women-apparel-dress/'),\n",
       " ('外套', 'http://www.timberland.com.tw/women-apparel-outerwear/'),\n",
       " ('襯衫', 'http://www.timberland.com.tw/women-apparel-shirts/'),\n",
       " ('褲款', 'http://www.timberland.com.tw/women-apparel-pants-shorts/'),\n",
       " ('毛衣', 'http://www.timberland.com.tw/women-apparel-sweaters/'),\n",
       " ('POLO 衫', 'http://www.timberland.com.tw/women-apparel-polo/'),\n",
       " ('健行鞋／靴', 'http://www.timberland.com.tw/women-footwear-hiking-shoes-boots/'),\n",
       " ('運動靴', 'http://www.timberland.com.tw/women-footwear-sneakerboots/'),\n",
       " ('靴款', 'http://www.timberland.com.tw/women-footwear-boots/'),\n",
       " ('帆船鞋', 'http://www.timberland.com.tw/women-footwear-boat-shoes/'),\n",
       " ('休閒鞋款', 'http://www.timberland.com.tw/women-footwear-shoes/'),\n",
       " ('涼鞋', 'http://www.timberland.com.tw/women-footwear-sandals/')]"
      ]
     },
     "execution_count": 51,
     "metadata": {},
     "output_type": "execute_result"
    }
   ],
   "source": [
    "categories = [(i.text(), i.attr('href')) for i in doc_categories.items()]\n",
    "categories"
   ]
  },
  {
   "cell_type": "markdown",
   "metadata": {},
   "source": [
    "## Refactor\n",
    "\n",
    "**Records schema**\n",
    "\n",
    "```json\n",
    "{\n",
    "    'product_number': 'A1LELL69',\n",
    "    'product_name': '男士Squam Lake 彈性直筒牛仔褲',\n",
    "    'color': '穿舊感洗色',\n",
    "    'cate1': '男士',\n",
    "    'cate2': '男裝',\n",
    "    'cate3': '褲款'\n",
    "    'price': 3900,\n",
    "    'img_src': 'http://xxx.xxx/123.png',\n",
    "    'desc': '具舒適彈性的包芯纱牛仔布 大樹標誌 零錢口袋上緣鉚釘裝飾－正面零錢口袋與後口袋均採四針車縫線設計樣式 內側褲頭下方縫線與 Timberland 靴款顏色鞋帶相應',\n",
    "    'features': None,\n",
    "    'product_url': 'http://xx.xx'\n",
    "}\n",
    "```"
   ]
  },
  {
   "cell_type": "code",
   "execution_count": 54,
   "metadata": {},
   "outputs": [],
   "source": [
    "def get_product(url, session=None):\n",
    "    pass\n",
    "    # return list_of_producs"
   ]
  },
  {
   "cell_type": "code",
   "execution_count": 55,
   "metadata": {},
   "outputs": [],
   "source": [
    "def _get_single_page_prodects(url, session=None):\n",
    "    pass"
   ]
  },
  {
   "cell_type": "code",
   "execution_count": null,
   "metadata": {},
   "outputs": [],
   "source": [
    "def get_product_list(cate_url, session=None):\n",
    "    pass"
   ]
  },
  {
   "cell_type": "code",
   "execution_count": 57,
   "metadata": {},
   "outputs": [],
   "source": [
    "def get_categogies(url, session=None):\n",
    "    pass"
   ]
  },
  {
   "cell_type": "code",
   "execution_count": null,
   "metadata": {},
   "outputs": [],
   "source": [
    "def get_products()"
   ]
  }
 ],
 "metadata": {
  "kernelspec": {
   "display_name": "venv",
   "language": "python",
   "name": "venv"
  },
  "language_info": {
   "codemirror_mode": {
    "name": "ipython",
    "version": 3
   },
   "file_extension": ".py",
   "mimetype": "text/x-python",
   "name": "python",
   "nbconvert_exporter": "python",
   "pygments_lexer": "ipython3",
   "version": "3.6.5"
  }
 },
 "nbformat": 4,
 "nbformat_minor": 2
}
